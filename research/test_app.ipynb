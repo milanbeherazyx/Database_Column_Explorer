{
 "cells": [
  {
   "cell_type": "code",
   "execution_count": null,
   "metadata": {},
   "outputs": [],
   "source": [
    "# dependencies\n",
    "# ! pip install pyodbc pandas openpyxl"
   ]
  },
  {
   "cell_type": "code",
   "execution_count": null,
   "metadata": {},
   "outputs": [],
   "source": [
    "import pyodbc\n",
    "import pandas as pd\n",
    "import logging\n",
    "import time\n",
    "import traceback\n",
    "\n",
    "# Configure logging\n",
    "logging.basicConfig(\n",
    "    filename='column_search.log',\n",
    "    filemode='a',  # Append mode\n",
    "    format='%(asctime)s - %(levelname)s - %(filename)s:%(lineno)d - %(message)s',\n",
    "    level=logging.INFO\n",
    ")\n",
    "\n",
    "logging.info(\"Starting the column search script\")\n",
    "\n",
    "try:\n",
    "    # Define the connection parameters\n",
    "    server = 'your_server_name'\n",
    "    username = 'your_username'\n",
    "    password = 'your_password'\n",
    "    database = 'master'  # Use any database just to execute the stored procedure\n",
    "\n",
    "    logging.info(\"Connecting to the SQL Server\")\n",
    "    \n",
    "    # Establish the connection\n",
    "    conn = pyodbc.connect(f'DRIVER={{ODBC Driver 17 for SQL Server}};SERVER={server};DATABASE={database};UID={username};PWD={password}')\n",
    "\n",
    "    logging.info(\"Connection established successfully\")\n",
    "\n",
    "    # Execute the stored procedure and fetch the results\n",
    "    query = \"EXEC dbo.SearchColumns\"\n",
    "    logging.info(\"Executing the stored procedure: %s\", query)\n",
    "    \n",
    "    results = pd.read_sql(query, conn)\n",
    "    logging.info(\"Stored procedure executed successfully and results fetched\")\n",
    "\n",
    "    # Close the connection\n",
    "    conn.close()\n",
    "    logging.info(\"Connection closed\")\n",
    "\n",
    "    # Save the result to an Excel file\n",
    "    output_file = 'column_search_results.xlsx'\n",
    "    results.to_excel(output_file, index=False)\n",
    "    logging.info(\"Results saved to %s\", output_file)\n",
    "\n",
    "except pyodbc.Error as e:\n",
    "    logging.error(\"Database error occurred: %s\", e)\n",
    "    logging.error(\"Traceback: %s\", traceback.format_exc())\n",
    "except Exception as e:\n",
    "    logging.error(\"An error occurred: %s\", e)\n",
    "    logging.error(\"Traceback: %s\", traceback.format_exc())\n",
    "finally:\n",
    "    if 'conn' in locals() and conn:\n",
    "        conn.close()\n",
    "        logging.info(\"Connection closed in finally block\")\n",
    "\n",
    "print(f\"Results saved to {output_file}\")\n"
   ]
  }
 ],
 "metadata": {
  "language_info": {
   "name": "python"
  }
 },
 "nbformat": 4,
 "nbformat_minor": 2
}
